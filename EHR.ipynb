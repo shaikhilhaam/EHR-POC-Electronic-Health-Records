{
 "cells": [
  {
   "cell_type": "code",
   "execution_count": 46,
   "metadata": {},
   "outputs": [],
   "source": [
    "import pandas as pd\n",
    "import numpy as np\n",
    "import os\n",
    "import matplotlib as mpl"
   ]
  },
  {
   "cell_type": "code",
   "execution_count": 47,
   "metadata": {},
   "outputs": [],
   "source": [
    "ACPT= pd.read_csv(r'data\\AdmissionsCorePopulatedTable.csv')\n",
    "PCPT= pd.read_csv(r'data\\PatientCorePopulatedTable.csv')\n",
    "ADCPT= pd.read_csv(r'data\\AdmissionsDiagnosesCorePopulatedTable.csv')\n",
    "LCPT= pd.read_csv(r'data\\LabsCorePopulatedTable.csv')\n",
    "ACPT['AdmissionStartDate']= pd.to_datetime(ACPT['AdmissionStartDate'])\n",
    "ACPT['AdmissionEndDate']= pd.to_datetime(ACPT['AdmissionEndDate'])\n",
    "ACPT['Duration']=ACPT['AdmissionEndDate']-ACPT['AdmissionStartDate']"
   ]
  },
  {
   "cell_type": "code",
   "execution_count": 48,
   "metadata": {},
   "outputs": [],
   "source": [
    "ACPT.sort_values(['PatientID','AdmissionID'], axis = 0, ascending = True, inplace = True, na_position ='last')\n",
    "PC = ACPT.groupby(by='PatientID', as_index=False).agg({'AdmissionID': pd.Series.nunique})\n",
    "ACPT=ACPT.reset_index()\n",
    "start=ACPT['AdmissionStartDate']\n",
    "end=ACPT['AdmissionEndDate']\n",
    "start=start.reset_index()\n",
    "end=end.reset_index()"
   ]
  },
  {
   "cell_type": "code",
   "execution_count": 49,
   "metadata": {},
   "outputs": [],
   "source": [
    "def Insert_row(row_number, df, row_value):\n",
    "    start_upper = 0\n",
    "    end_upper = row_number \n",
    "    start_lower = row_number \n",
    "    end_lower = df.shape[0] \n",
    "    upper_half = [*range(start_upper, end_upper, 1)] \n",
    "    lower_half = [*range(start_lower, end_lower, 1)] \n",
    "    lower_half = [x.__add__(1) for x in lower_half]\n",
    "    index_ = upper_half + lower_half \n",
    "    df.index = index_ \n",
    "    df.loc[row_number] = row_value \n",
    "    df = df.sort_index()\n",
    "    return df "
   ]
  },
  {
   "cell_type": "code",
   "execution_count": 50,
   "metadata": {},
   "outputs": [],
   "source": [
    "def diff2(start, end, arr):\n",
    "    s=len(start)\n",
    "    e=len(end)\n",
    "    arrlen=len(arr)\n",
    "    k=0;\n",
    "    ReAd= pd.DataFrame()\n",
    "    ReAd[0]=\"ReAdmission Duration\"\n",
    "    for i in arr:\n",
    "        for j in range (k,k+i):\n",
    "            if(j==k+i-1):\n",
    "                diff1=pd.to_timedelta('-1 days 00:00:00')\n",
    "                ReAd=Insert_row(j,ReAd,diff1)\n",
    "                break;\n",
    "            elif(j<len(start)):\n",
    "                diff1=start[j+1]-end[j]\n",
    "                ReAd=Insert_row(j,ReAd,diff1)\n",
    "        k=k+i;\n",
    "    return ReAd"
   ]
  },
  {
   "cell_type": "code",
   "execution_count": 51,
   "metadata": {},
   "outputs": [],
   "source": [
    "ReAd=diff2(start['AdmissionStartDate'],end['AdmissionEndDate'],PC['AdmissionID'])"
   ]
  },
  {
   "cell_type": "code",
   "execution_count": 52,
   "metadata": {},
   "outputs": [],
   "source": [
    "ACPT['ReAdDuration']=ReAd"
   ]
  },
  {
   "cell_type": "code",
   "execution_count": 53,
   "metadata": {},
   "outputs": [],
   "source": [
    "arrn=[]\n",
    "for i in range (0,372):\n",
    "    arrn.append(ACPT.iloc[i,6].days)\n",
    "ACPT['READMISSION']=arrn"
   ]
  },
  {
   "cell_type": "code",
   "execution_count": 54,
   "metadata": {},
   "outputs": [],
   "source": [
    "arrn2=[]\n",
    "for i in range (0,372):\n",
    "    arrn2.append(ACPT.iloc[i,5].days)\n",
    "ACPT['STAYDURATION']=arrn2"
   ]
  },
  {
   "cell_type": "code",
   "execution_count": 55,
   "metadata": {},
   "outputs": [],
   "source": [
    "ACPT['READ'] = [True if (x <=600 and x!=-1) else False for x in ACPT['READMISSION']] "
   ]
  },
  {
   "cell_type": "code",
   "execution_count": 56,
   "metadata": {},
   "outputs": [],
   "source": [
    "ADCPT.sort_values(['PatientID','AdmissionID'], axis = 0, ascending = True, inplace = True, na_position ='last')\n",
    "PCPT.sort_values('PatientID', axis = 0, ascending = True, inplace = True, na_position ='last')\n",
    "newACPT=ACPT.copy()\n",
    "newADCPT=ADCPT.copy()\n",
    "newACPT.reset_index()\n",
    "newADCPT.reset_index()\n",
    "FADCPT=pd.merge(ACPT,ADCPT,on=['PatientID','AdmissionID'])"
   ]
  },
  {
   "cell_type": "code",
   "execution_count": 57,
   "metadata": {},
   "outputs": [],
   "source": [
    "FADCPT1=pd.merge(PCPT,FADCPT,on='PatientID')"
   ]
  },
  {
   "cell_type": "code",
   "execution_count": 58,
   "metadata": {},
   "outputs": [],
   "source": [
    "FADCPT1['PatientDateOfBirth']= pd.to_datetime(FADCPT1['PatientDateOfBirth'])\n",
    "FADCPT1['Age']=FADCPT1['AdmissionStartDate']-FADCPT1['PatientDateOfBirth']\n",
    "arr=[]\n",
    "for i in range(len(FADCPT1)):\n",
    "    arr.append(FADCPT1.iloc[i,18].days)\n",
    "arr\n",
    "arr2=[]\n",
    "for i in arr:\n",
    "    arr2.append(i/(12*30))\n",
    "arr2\n",
    "FADCPT1['Age2']=arr2"
   ]
  },
  {
   "cell_type": "code",
   "execution_count": 59,
   "metadata": {},
   "outputs": [],
   "source": [
    "FADCPT1['Age2']=FADCPT1['Age2'].astype(int)"
   ]
  },
  {
   "cell_type": "code",
   "execution_count": 60,
   "metadata": {},
   "outputs": [],
   "source": [
    "lval={\n",
    "    'URINALYSIS: RED BLOOD CELLS' :0 , 'METABOLIC: GLUCOSE' :70 , 'CBC: MCH':27,\n",
    "       'METABOLIC: CALCIUM' : 8.8, 'CBC: RED BLOOD CELL COUNT':4 ,\n",
    "       'URINALYSIS: PH':5 , 'METABOLIC: TOTAL PROTEIN':6.4,\n",
    "       'METABOLIC: CHLORIDE':98, 'CBC: LYMPHOCYTES':1,\n",
    "       'CBC: ABSOLUTE LYMPHOCYTES':20, 'METABOLIC: SODIUM':135,\n",
    "       'URINALYSIS: SPECIFIC GRAVITY':1.015, 'METABOLIC: BILI TOTAL':0,\n",
    "       'URINALYSIS: WHITE BLOOD CELLS':0, 'CBC: EOSINOPHILS':0.1,\n",
    "       'METABOLIC: ALK PHOS':50, 'CBC: RDW':11, 'METABOLIC: AST/SGOT':15,\n",
    "       'METABOLIC: CREATININE':0.6, 'CBC: NEUTROPHILS':2, 'CBC: BASOPHILS':0.0,\n",
    "       'CBC: MONOCYTES':0.1, 'METABOLIC: BUN':7, 'CBC: WHITE BLOOD CELL COUNT':5,\n",
    "       'CBC: PLATELET COUNT':150, 'METABOLIC: POTASSIUM':3.5,\n",
    "       'METABOLIC: ANION GAP':5, 'CBC: HEMATOCRIT':35, 'CBC: HEMOGLOBIN':12,\n",
    "       'METABOLIC: CARBON DIOXIDE':21, 'CBC: ABSOLUTE NEUTROPHILS':50,\n",
    "       'METABOLIC: ALBUMIN':3.4, 'CBC: MCHC':32, 'CBC: MEAN CORPUSCULAR VOLUME':82,\n",
    "       'METABOLIC: ALT/SGPT':20\n",
    "}\n",
    "uval={\n",
    "    'URINALYSIS: RED BLOOD CELLS' :3 , 'METABOLIC: GLUCOSE' :109 , 'CBC: MCH':33,\n",
    "       'METABOLIC: CALCIUM' : 10.5, 'CBC: RED BLOOD CELL COUNT':6 ,\n",
    "       'URINALYSIS: PH':7 , 'METABOLIC: TOTAL PROTEIN':8.2,\n",
    "       'METABOLIC: CHLORIDE':110, 'CBC: LYMPHOCYTES':4,\n",
    "       'CBC: ABSOLUTE LYMPHOCYTES':30, 'METABOLIC: SODIUM':148,\n",
    "       'URINALYSIS: SPECIFIC GRAVITY':1.025 , 'METABOLIC: BILI TOTAL':1,\n",
    "       'URINALYSIS: WHITE BLOOD CELLS':5, 'CBC: EOSINOPHILS':0.5,\n",
    "       'METABOLIC: ALK PHOS':136, 'CBC: RDW':15.6, 'METABOLIC: AST/SGOT':37,\n",
    "       'METABOLIC: CREATININE':1, 'CBC: NEUTROPHILS':9, 'CBC: BASOPHILS':0.2,\n",
    "       'CBC: MONOCYTES':1.0, 'METABOLIC: BUN':20, 'CBC: WHITE BLOOD CELL COUNT':10,\n",
    "       'CBC: PLATELET COUNT':400, 'METABOLIC: POTASSIUM':5.3,\n",
    "       'METABOLIC: ANION GAP':15, 'CBC: HEMATOCRIT':47, 'CBC: HEMOGLOBIN':16,\n",
    "       'METABOLIC: CARBON DIOXIDE':32, 'CBC: ABSOLUTE NEUTROPHILS':75,\n",
    "       'METABOLIC: ALBUMIN':5, 'CBC: MCHC':36, 'CBC: MEAN CORPUSCULAR VOLUME':100,\n",
    "       'METABOLIC: ALT/SGPT':65\n",
    "}"
   ]
  },
  {
   "cell_type": "code",
   "execution_count": 61,
   "metadata": {},
   "outputs": [],
   "source": [
    "LCPT.sort_values(['PatientID','AdmissionID','LabName'], axis = 0, ascending = True, inplace = True, na_position ='last')"
   ]
  },
  {
   "cell_type": "code",
   "execution_count": 62,
   "metadata": {},
   "outputs": [],
   "source": [
    "LCPT1=LCPT\n",
    "LCPT1=LCPT1.reset_index()\n",
    "LCPT1['lval']=LCPT1.LabName.map(lval)\n",
    "LCPT1['uval']=LCPT1.LabName.map(uval)"
   ]
  },
  {
   "cell_type": "code",
   "execution_count": 63,
   "metadata": {},
   "outputs": [],
   "source": [
    "LCPT1['IsNormal']=\"\""
   ]
  },
  {
   "cell_type": "code",
   "execution_count": 64,
   "metadata": {},
   "outputs": [],
   "source": [
    "LCPT1.LabDateTime=pd.to_datetime(LCPT1.LabDateTime)"
   ]
  },
  {
   "cell_type": "code",
   "execution_count": 65,
   "metadata": {},
   "outputs": [],
   "source": [
    "lval=LCPT1.lval\n",
    "uval=LCPT1.uval\n",
    "labvalue=LCPT1.LabValue"
   ]
  },
  {
   "cell_type": "code",
   "execution_count": 66,
   "metadata": {},
   "outputs": [],
   "source": [
    "arr=[]\n",
    "for i in LCPT1.index:\n",
    "    x=lval[i]\n",
    "    y=uval[i]\n",
    "    z=labvalue[i]\n",
    "    if(z>=x and z<=y):\n",
    "        arr.append(True)\n",
    "    else:\n",
    "        arr.append(False)"
   ]
  },
  {
   "cell_type": "code",
   "execution_count": 67,
   "metadata": {},
   "outputs": [],
   "source": [
    "LCPT1['IsNormal']=arr"
   ]
  },
  {
   "cell_type": "code",
   "execution_count": 68,
   "metadata": {},
   "outputs": [],
   "source": [
    "newdf=pd.merge(FADCPT1,LCPT1,on=['PatientID','AdmissionID'])"
   ]
  },
  {
   "cell_type": "code",
   "execution_count": 69,
   "metadata": {},
   "outputs": [],
   "source": [
    "#newdf"
   ]
  },
  {
   "cell_type": "code",
   "execution_count": 70,
   "metadata": {},
   "outputs": [],
   "source": [
    "#newdf.to_csv('FINALEHR.csv')"
   ]
  },
  {
   "cell_type": "code",
   "execution_count": 71,
   "metadata": {},
   "outputs": [],
   "source": [
    "json_list=(newdf.groupby([\"PatientID\", \"PatientGender\", 'PatientDateOfBirth', 'PatientRace','PatientMaritalStatus', 'PatientLanguage','PatientPopulationPercentageBelowPoverty', 'AdmissionID','AdmissionStartDate', 'AdmissionEndDate','READMISSION', 'STAYDURATION', 'READ', 'PrimaryDiagnosisCode','PrimaryDiagnosisDescription','Age2',\"LabDateTime\"])\n",
    "          .apply(lambda x: x[['LabName','LabValue', 'LabUnits','IsNormal']].to_dict(\"r\"))\n",
    "          .reset_index()\n",
    "          .rename(columns={0:\"LabInfo\"})\n",
    "          .groupby([\"PatientID\", \"PatientGender\", 'PatientDateOfBirth', 'PatientRace','PatientMaritalStatus', 'PatientLanguage','PatientPopulationPercentageBelowPoverty', 'AdmissionID','AdmissionStartDate', 'AdmissionEndDate','READMISSION', 'STAYDURATION', 'READ', 'PrimaryDiagnosisCode','PrimaryDiagnosisDescription','Age2'])\n",
    "          .apply(lambda x: x[[\"LabDateTime\", \"LabInfo\"]].to_dict(\"r\"))\n",
    "          .reset_index()\n",
    "          .rename(columns={0:\"LabReports\"})\n",
    "          .groupby([\"PatientID\", \"PatientGender\", 'PatientDateOfBirth', 'PatientRace','PatientMaritalStatus', 'PatientLanguage','PatientPopulationPercentageBelowPoverty'])\n",
    "          .apply(lambda x: x[['AdmissionID','AdmissionStartDate', 'AdmissionEndDate','READMISSION', 'STAYDURATION', 'READ', 'PrimaryDiagnosisCode','PrimaryDiagnosisDescription','Age2', \"LabReports\"]].to_dict(\"r\"))\n",
    "          .reset_index()\n",
    "          .rename(columns={0:\"AdmissionsInfo\"})\n",
    "          .to_json(orient=\"records\"))"
   ]
  },
  {
   "cell_type": "code",
   "execution_count": 72,
   "metadata": {},
   "outputs": [],
   "source": [
    "import json"
   ]
  },
  {
   "cell_type": "code",
   "execution_count": 73,
   "metadata": {},
   "outputs": [],
   "source": [
    "j=json.loads(json_list)"
   ]
  },
  {
   "cell_type": "code",
   "execution_count": 74,
   "metadata": {},
   "outputs": [],
   "source": [
    "#import sys\n",
    "#sys.stdout = open('OUTPUT2.json', 'w')\n",
    "#print(j)"
   ]
  },
  {
   "cell_type": "code",
   "execution_count": 75,
   "metadata": {},
   "outputs": [],
   "source": [
    "#print(j)"
   ]
  },
  {
   "cell_type": "code",
   "execution_count": null,
   "metadata": {},
   "outputs": [],
   "source": []
  }
 ],
 "metadata": {
  "kernelspec": {
   "display_name": "Python 3 (ipykernel)",
   "language": "python",
   "name": "python3"
  },
  "language_info": {
   "codemirror_mode": {
    "name": "ipython",
    "version": 3
   },
   "file_extension": ".py",
   "mimetype": "text/x-python",
   "name": "python",
   "nbconvert_exporter": "python",
   "pygments_lexer": "ipython3",
   "version": "3.10.7"
  }
 },
 "nbformat": 4,
 "nbformat_minor": 2
}
